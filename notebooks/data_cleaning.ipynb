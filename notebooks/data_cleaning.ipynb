{
 "cells": [
  {
   "cell_type": "code",
   "execution_count": 1,
   "metadata": {},
   "outputs": [],
   "source": [
    "import pandas as pd"
   ]
  },
  {
   "cell_type": "code",
   "execution_count": 2,
   "metadata": {},
   "outputs": [
    {
     "name": "stdout",
     "output_type": "stream",
     "text": [
      "<class 'pandas.core.frame.DataFrame'>\n",
      "RangeIndex: 318345 entries, 0 to 318344\n",
      "Data columns (total 5 columns):\n",
      " #   Column                 Non-Null Count   Dtype  \n",
      "---  ------                 --------------   -----  \n",
      " 0   original_product_name  318345 non-null  object \n",
      " 1   postcode               318345 non-null  object \n",
      " 2   bundesland             288813 non-null  object \n",
      " 3   total_bonus            318345 non-null  float64\n",
      " 4   order_date             318345 non-null  object \n",
      "dtypes: float64(1), object(4)\n",
      "memory usage: 12.1+ MB\n"
     ]
    },
    {
     "name": "stderr",
     "output_type": "stream",
     "text": [
      "/tmp/ipykernel_33733/4243634050.py:1: DtypeWarning: Columns (1) have mixed types. Specify dtype option on import or set low_memory=False.\n",
      "  df = pd.read_csv(\"../data/interview_signup.csv\")\n"
     ]
    }
   ],
   "source": [
    "df = pd.read_csv(\"../data/interview_signup.csv\")\n",
    "df.info()"
   ]
  },
  {
   "cell_type": "code",
   "execution_count": 3,
   "metadata": {},
   "outputs": [
    {
     "data": {
      "text/html": [
       "<div>\n",
       "<style scoped>\n",
       "    .dataframe tbody tr th:only-of-type {\n",
       "        vertical-align: middle;\n",
       "    }\n",
       "\n",
       "    .dataframe tbody tr th {\n",
       "        vertical-align: top;\n",
       "    }\n",
       "\n",
       "    .dataframe thead th {\n",
       "        text-align: right;\n",
       "    }\n",
       "</style>\n",
       "<table border=\"1\" class=\"dataframe\">\n",
       "  <thead>\n",
       "    <tr style=\"text-align: right;\">\n",
       "      <th></th>\n",
       "      <th>original_product_name</th>\n",
       "      <th>postcode</th>\n",
       "      <th>bundesland</th>\n",
       "      <th>total_bonus</th>\n",
       "      <th>order_date</th>\n",
       "    </tr>\n",
       "  </thead>\n",
       "  <tbody>\n",
       "    <tr>\n",
       "      <th>0</th>\n",
       "      <td>E.ON STROM</td>\n",
       "      <td>53229.0</td>\n",
       "      <td>Nordrhein-Westfalen</td>\n",
       "      <td>146.0</td>\n",
       "      <td>2018-01-01</td>\n",
       "    </tr>\n",
       "    <tr>\n",
       "      <th>1</th>\n",
       "      <td>E.ON STROM ÖKO</td>\n",
       "      <td>74235.0</td>\n",
       "      <td>Baden-Württemberg</td>\n",
       "      <td>67.0</td>\n",
       "      <td>2018-01-01</td>\n",
       "    </tr>\n",
       "    <tr>\n",
       "      <th>2</th>\n",
       "      <td>E.ON STROM ÖKO 24</td>\n",
       "      <td>45257.0</td>\n",
       "      <td>Nordrhein-Westfalen</td>\n",
       "      <td>123.0</td>\n",
       "      <td>2018-01-01</td>\n",
       "    </tr>\n",
       "    <tr>\n",
       "      <th>3</th>\n",
       "      <td>E.ON STROM</td>\n",
       "      <td>64395.0</td>\n",
       "      <td>Hessen</td>\n",
       "      <td>159.0</td>\n",
       "      <td>2018-01-01</td>\n",
       "    </tr>\n",
       "    <tr>\n",
       "      <th>4</th>\n",
       "      <td>E.ON STROM 24</td>\n",
       "      <td>36039.0</td>\n",
       "      <td>Hessen</td>\n",
       "      <td>116.0</td>\n",
       "      <td>2018-01-01</td>\n",
       "    </tr>\n",
       "  </tbody>\n",
       "</table>\n",
       "</div>"
      ],
      "text/plain": [
       "  original_product_name postcode           bundesland  total_bonus  order_date\n",
       "0            E.ON STROM  53229.0  Nordrhein-Westfalen        146.0  2018-01-01\n",
       "1        E.ON STROM ÖKO  74235.0    Baden-Württemberg         67.0  2018-01-01\n",
       "2     E.ON STROM ÖKO 24  45257.0  Nordrhein-Westfalen        123.0  2018-01-01\n",
       "3            E.ON STROM  64395.0               Hessen        159.0  2018-01-01\n",
       "4         E.ON STROM 24  36039.0               Hessen        116.0  2018-01-01"
      ]
     },
     "execution_count": 3,
     "metadata": {},
     "output_type": "execute_result"
    }
   ],
   "source": [
    "df.head()"
   ]
  },
  {
   "cell_type": "code",
   "execution_count": 4,
   "metadata": {},
   "outputs": [
    {
     "data": {
      "text/html": [
       "<div>\n",
       "<style scoped>\n",
       "    .dataframe tbody tr th:only-of-type {\n",
       "        vertical-align: middle;\n",
       "    }\n",
       "\n",
       "    .dataframe tbody tr th {\n",
       "        vertical-align: top;\n",
       "    }\n",
       "\n",
       "    .dataframe thead th {\n",
       "        text-align: right;\n",
       "    }\n",
       "</style>\n",
       "<table border=\"1\" class=\"dataframe\">\n",
       "  <thead>\n",
       "    <tr style=\"text-align: right;\">\n",
       "      <th></th>\n",
       "      <th>original_product_name</th>\n",
       "      <th>postcode</th>\n",
       "      <th>bundesland</th>\n",
       "      <th>total_bonus</th>\n",
       "      <th>order_date</th>\n",
       "    </tr>\n",
       "  </thead>\n",
       "  <tbody>\n",
       "    <tr>\n",
       "      <th>count</th>\n",
       "      <td>318345</td>\n",
       "      <td>318345.0</td>\n",
       "      <td>288813</td>\n",
       "      <td>318345.000000</td>\n",
       "      <td>318345</td>\n",
       "    </tr>\n",
       "    <tr>\n",
       "      <th>unique</th>\n",
       "      <td>10</td>\n",
       "      <td>20525.0</td>\n",
       "      <td>16</td>\n",
       "      <td>NaN</td>\n",
       "      <td>365</td>\n",
       "    </tr>\n",
       "    <tr>\n",
       "      <th>top</th>\n",
       "      <td>E.ON STROM</td>\n",
       "      <td>31515.0</td>\n",
       "      <td>Nordrhein-Westfalen</td>\n",
       "      <td>NaN</td>\n",
       "      <td>2018-09-05</td>\n",
       "    </tr>\n",
       "    <tr>\n",
       "      <th>freq</th>\n",
       "      <td>164473</td>\n",
       "      <td>332.0</td>\n",
       "      <td>68541</td>\n",
       "      <td>NaN</td>\n",
       "      <td>960</td>\n",
       "    </tr>\n",
       "    <tr>\n",
       "      <th>mean</th>\n",
       "      <td>NaN</td>\n",
       "      <td>NaN</td>\n",
       "      <td>NaN</td>\n",
       "      <td>150.590275</td>\n",
       "      <td>NaN</td>\n",
       "    </tr>\n",
       "    <tr>\n",
       "      <th>std</th>\n",
       "      <td>NaN</td>\n",
       "      <td>NaN</td>\n",
       "      <td>NaN</td>\n",
       "      <td>53.692176</td>\n",
       "      <td>NaN</td>\n",
       "    </tr>\n",
       "    <tr>\n",
       "      <th>min</th>\n",
       "      <td>NaN</td>\n",
       "      <td>NaN</td>\n",
       "      <td>NaN</td>\n",
       "      <td>0.000000</td>\n",
       "      <td>NaN</td>\n",
       "    </tr>\n",
       "    <tr>\n",
       "      <th>25%</th>\n",
       "      <td>NaN</td>\n",
       "      <td>NaN</td>\n",
       "      <td>NaN</td>\n",
       "      <td>112.000000</td>\n",
       "      <td>NaN</td>\n",
       "    </tr>\n",
       "    <tr>\n",
       "      <th>50%</th>\n",
       "      <td>NaN</td>\n",
       "      <td>NaN</td>\n",
       "      <td>NaN</td>\n",
       "      <td>149.000000</td>\n",
       "      <td>NaN</td>\n",
       "    </tr>\n",
       "    <tr>\n",
       "      <th>75%</th>\n",
       "      <td>NaN</td>\n",
       "      <td>NaN</td>\n",
       "      <td>NaN</td>\n",
       "      <td>182.000000</td>\n",
       "      <td>NaN</td>\n",
       "    </tr>\n",
       "    <tr>\n",
       "      <th>max</th>\n",
       "      <td>NaN</td>\n",
       "      <td>NaN</td>\n",
       "      <td>NaN</td>\n",
       "      <td>570.000000</td>\n",
       "      <td>NaN</td>\n",
       "    </tr>\n",
       "  </tbody>\n",
       "</table>\n",
       "</div>"
      ],
      "text/plain": [
       "       original_product_name  postcode           bundesland    total_bonus  \\\n",
       "count                 318345  318345.0               288813  318345.000000   \n",
       "unique                    10   20525.0                   16            NaN   \n",
       "top               E.ON STROM   31515.0  Nordrhein-Westfalen            NaN   \n",
       "freq                  164473     332.0                68541            NaN   \n",
       "mean                     NaN       NaN                  NaN     150.590275   \n",
       "std                      NaN       NaN                  NaN      53.692176   \n",
       "min                      NaN       NaN                  NaN       0.000000   \n",
       "25%                      NaN       NaN                  NaN     112.000000   \n",
       "50%                      NaN       NaN                  NaN     149.000000   \n",
       "75%                      NaN       NaN                  NaN     182.000000   \n",
       "max                      NaN       NaN                  NaN     570.000000   \n",
       "\n",
       "        order_date  \n",
       "count       318345  \n",
       "unique         365  \n",
       "top     2018-09-05  \n",
       "freq           960  \n",
       "mean           NaN  \n",
       "std            NaN  \n",
       "min            NaN  \n",
       "25%            NaN  \n",
       "50%            NaN  \n",
       "75%            NaN  \n",
       "max            NaN  "
      ]
     },
     "execution_count": 4,
     "metadata": {},
     "output_type": "execute_result"
    }
   ],
   "source": [
    "df.describe(include='all')"
   ]
  },
  {
   "cell_type": "code",
   "execution_count": 5,
   "metadata": {},
   "outputs": [
    {
     "data": {
      "text/plain": [
       "array(['Nordrhein-Westfalen', 'Baden-Württemberg', 'Hessen', 'Berlin',\n",
       "       'Schleswig-Holstein', 'Niedersachsen', nan, 'Bayern',\n",
       "       'Rheinland-Pfalz', 'Sachsen', 'Bremen', 'Brandenburg', 'Thüringen',\n",
       "       'Saarland', 'Mecklenburg-Vorpommern', 'Hamburg', 'Sachsen-Anhalt'],\n",
       "      dtype=object)"
      ]
     },
     "execution_count": 5,
     "metadata": {},
     "output_type": "execute_result"
    }
   ],
   "source": [
    "df['bundesland'].unique()"
   ]
  },
  {
   "cell_type": "code",
   "execution_count": 6,
   "metadata": {},
   "outputs": [
    {
     "data": {
      "text/plain": [
       "original_product_name        0\n",
       "postcode                     0\n",
       "bundesland               29532\n",
       "total_bonus                  0\n",
       "order_date                   0\n",
       "dtype: int64"
      ]
     },
     "execution_count": 6,
     "metadata": {},
     "output_type": "execute_result"
    }
   ],
   "source": [
    "df.isna().sum()"
   ]
  }
 ],
 "metadata": {
  "kernelspec": {
   "display_name": "propulsion",
   "language": "python",
   "name": "propulsion"
  },
  "language_info": {
   "codemirror_mode": {
    "name": "ipython",
    "version": 3
   },
   "file_extension": ".py",
   "mimetype": "text/x-python",
   "name": "python",
   "nbconvert_exporter": "python",
   "pygments_lexer": "ipython3",
   "version": "3.11.5"
  }
 },
 "nbformat": 4,
 "nbformat_minor": 2
}
