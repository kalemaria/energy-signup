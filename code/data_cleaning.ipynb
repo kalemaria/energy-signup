{
 "cells": [
  {
   "cell_type": "code",
   "execution_count": 1,
   "metadata": {},
   "outputs": [],
   "source": [
    "import pandas as pd\n",
    "\n",
    "from preprocessing import remove_floating_points_in_postcodes, check_postcodes, convert_order_date_to_datetime"
   ]
  },
  {
   "cell_type": "markdown",
   "metadata": {},
   "source": [
    "## Data loading and checking"
   ]
  },
  {
   "cell_type": "code",
   "execution_count": 2,
   "metadata": {},
   "outputs": [
    {
     "name": "stdout",
     "output_type": "stream",
     "text": [
      "<class 'pandas.core.frame.DataFrame'>\n",
      "RangeIndex: 318345 entries, 0 to 318344\n",
      "Data columns (total 5 columns):\n",
      " #   Column                 Non-Null Count   Dtype  \n",
      "---  ------                 --------------   -----  \n",
      " 0   original_product_name  318345 non-null  object \n",
      " 1   postcode               318345 non-null  object \n",
      " 2   bundesland             288813 non-null  object \n",
      " 3   total_bonus            318345 non-null  float64\n",
      " 4   order_date             318345 non-null  object \n",
      "dtypes: float64(1), object(4)\n",
      "memory usage: 12.1+ MB\n"
     ]
    },
    {
     "name": "stderr",
     "output_type": "stream",
     "text": [
      "/tmp/ipykernel_75212/4243634050.py:1: DtypeWarning: Columns (1) have mixed types. Specify dtype option on import or set low_memory=False.\n",
      "  df = pd.read_csv(\"../data/interview_signup.csv\")\n"
     ]
    }
   ],
   "source": [
    "df = pd.read_csv(\"../data/interview_signup.csv\")\n",
    "df.info()"
   ]
  },
  {
   "cell_type": "code",
   "execution_count": 3,
   "metadata": {},
   "outputs": [
    {
     "data": {
      "text/html": [
       "<div>\n",
       "<style scoped>\n",
       "    .dataframe tbody tr th:only-of-type {\n",
       "        vertical-align: middle;\n",
       "    }\n",
       "\n",
       "    .dataframe tbody tr th {\n",
       "        vertical-align: top;\n",
       "    }\n",
       "\n",
       "    .dataframe thead th {\n",
       "        text-align: right;\n",
       "    }\n",
       "</style>\n",
       "<table border=\"1\" class=\"dataframe\">\n",
       "  <thead>\n",
       "    <tr style=\"text-align: right;\">\n",
       "      <th></th>\n",
       "      <th>original_product_name</th>\n",
       "      <th>postcode</th>\n",
       "      <th>bundesland</th>\n",
       "      <th>total_bonus</th>\n",
       "      <th>order_date</th>\n",
       "    </tr>\n",
       "  </thead>\n",
       "  <tbody>\n",
       "    <tr>\n",
       "      <th>0</th>\n",
       "      <td>E.ON STROM</td>\n",
       "      <td>53229.0</td>\n",
       "      <td>Nordrhein-Westfalen</td>\n",
       "      <td>146.0</td>\n",
       "      <td>2018-01-01</td>\n",
       "    </tr>\n",
       "    <tr>\n",
       "      <th>1</th>\n",
       "      <td>E.ON STROM ÖKO</td>\n",
       "      <td>74235.0</td>\n",
       "      <td>Baden-Württemberg</td>\n",
       "      <td>67.0</td>\n",
       "      <td>2018-01-01</td>\n",
       "    </tr>\n",
       "    <tr>\n",
       "      <th>2</th>\n",
       "      <td>E.ON STROM ÖKO 24</td>\n",
       "      <td>45257.0</td>\n",
       "      <td>Nordrhein-Westfalen</td>\n",
       "      <td>123.0</td>\n",
       "      <td>2018-01-01</td>\n",
       "    </tr>\n",
       "    <tr>\n",
       "      <th>3</th>\n",
       "      <td>E.ON STROM</td>\n",
       "      <td>64395.0</td>\n",
       "      <td>Hessen</td>\n",
       "      <td>159.0</td>\n",
       "      <td>2018-01-01</td>\n",
       "    </tr>\n",
       "    <tr>\n",
       "      <th>4</th>\n",
       "      <td>E.ON STROM 24</td>\n",
       "      <td>36039.0</td>\n",
       "      <td>Hessen</td>\n",
       "      <td>116.0</td>\n",
       "      <td>2018-01-01</td>\n",
       "    </tr>\n",
       "  </tbody>\n",
       "</table>\n",
       "</div>"
      ],
      "text/plain": [
       "  original_product_name postcode           bundesland  total_bonus  order_date\n",
       "0            E.ON STROM  53229.0  Nordrhein-Westfalen        146.0  2018-01-01\n",
       "1        E.ON STROM ÖKO  74235.0    Baden-Württemberg         67.0  2018-01-01\n",
       "2     E.ON STROM ÖKO 24  45257.0  Nordrhein-Westfalen        123.0  2018-01-01\n",
       "3            E.ON STROM  64395.0               Hessen        159.0  2018-01-01\n",
       "4         E.ON STROM 24  36039.0               Hessen        116.0  2018-01-01"
      ]
     },
     "execution_count": 3,
     "metadata": {},
     "output_type": "execute_result"
    }
   ],
   "source": [
    "df.head()"
   ]
  },
  {
   "cell_type": "code",
   "execution_count": 4,
   "metadata": {},
   "outputs": [
    {
     "data": {
      "text/html": [
       "<div>\n",
       "<style scoped>\n",
       "    .dataframe tbody tr th:only-of-type {\n",
       "        vertical-align: middle;\n",
       "    }\n",
       "\n",
       "    .dataframe tbody tr th {\n",
       "        vertical-align: top;\n",
       "    }\n",
       "\n",
       "    .dataframe thead th {\n",
       "        text-align: right;\n",
       "    }\n",
       "</style>\n",
       "<table border=\"1\" class=\"dataframe\">\n",
       "  <thead>\n",
       "    <tr style=\"text-align: right;\">\n",
       "      <th></th>\n",
       "      <th>original_product_name</th>\n",
       "      <th>postcode</th>\n",
       "      <th>bundesland</th>\n",
       "      <th>total_bonus</th>\n",
       "      <th>order_date</th>\n",
       "    </tr>\n",
       "  </thead>\n",
       "  <tbody>\n",
       "    <tr>\n",
       "      <th>count</th>\n",
       "      <td>318345</td>\n",
       "      <td>318345.0</td>\n",
       "      <td>288813</td>\n",
       "      <td>318345.000000</td>\n",
       "      <td>318345</td>\n",
       "    </tr>\n",
       "    <tr>\n",
       "      <th>unique</th>\n",
       "      <td>10</td>\n",
       "      <td>20525.0</td>\n",
       "      <td>16</td>\n",
       "      <td>NaN</td>\n",
       "      <td>365</td>\n",
       "    </tr>\n",
       "    <tr>\n",
       "      <th>top</th>\n",
       "      <td>E.ON STROM</td>\n",
       "      <td>31515.0</td>\n",
       "      <td>Nordrhein-Westfalen</td>\n",
       "      <td>NaN</td>\n",
       "      <td>2018-09-05</td>\n",
       "    </tr>\n",
       "    <tr>\n",
       "      <th>freq</th>\n",
       "      <td>164473</td>\n",
       "      <td>332.0</td>\n",
       "      <td>68541</td>\n",
       "      <td>NaN</td>\n",
       "      <td>960</td>\n",
       "    </tr>\n",
       "    <tr>\n",
       "      <th>mean</th>\n",
       "      <td>NaN</td>\n",
       "      <td>NaN</td>\n",
       "      <td>NaN</td>\n",
       "      <td>150.590275</td>\n",
       "      <td>NaN</td>\n",
       "    </tr>\n",
       "    <tr>\n",
       "      <th>std</th>\n",
       "      <td>NaN</td>\n",
       "      <td>NaN</td>\n",
       "      <td>NaN</td>\n",
       "      <td>53.692176</td>\n",
       "      <td>NaN</td>\n",
       "    </tr>\n",
       "    <tr>\n",
       "      <th>min</th>\n",
       "      <td>NaN</td>\n",
       "      <td>NaN</td>\n",
       "      <td>NaN</td>\n",
       "      <td>0.000000</td>\n",
       "      <td>NaN</td>\n",
       "    </tr>\n",
       "    <tr>\n",
       "      <th>25%</th>\n",
       "      <td>NaN</td>\n",
       "      <td>NaN</td>\n",
       "      <td>NaN</td>\n",
       "      <td>112.000000</td>\n",
       "      <td>NaN</td>\n",
       "    </tr>\n",
       "    <tr>\n",
       "      <th>50%</th>\n",
       "      <td>NaN</td>\n",
       "      <td>NaN</td>\n",
       "      <td>NaN</td>\n",
       "      <td>149.000000</td>\n",
       "      <td>NaN</td>\n",
       "    </tr>\n",
       "    <tr>\n",
       "      <th>75%</th>\n",
       "      <td>NaN</td>\n",
       "      <td>NaN</td>\n",
       "      <td>NaN</td>\n",
       "      <td>182.000000</td>\n",
       "      <td>NaN</td>\n",
       "    </tr>\n",
       "    <tr>\n",
       "      <th>max</th>\n",
       "      <td>NaN</td>\n",
       "      <td>NaN</td>\n",
       "      <td>NaN</td>\n",
       "      <td>570.000000</td>\n",
       "      <td>NaN</td>\n",
       "    </tr>\n",
       "  </tbody>\n",
       "</table>\n",
       "</div>"
      ],
      "text/plain": [
       "       original_product_name  postcode           bundesland    total_bonus  \\\n",
       "count                 318345  318345.0               288813  318345.000000   \n",
       "unique                    10   20525.0                   16            NaN   \n",
       "top               E.ON STROM   31515.0  Nordrhein-Westfalen            NaN   \n",
       "freq                  164473     332.0                68541            NaN   \n",
       "mean                     NaN       NaN                  NaN     150.590275   \n",
       "std                      NaN       NaN                  NaN      53.692176   \n",
       "min                      NaN       NaN                  NaN       0.000000   \n",
       "25%                      NaN       NaN                  NaN     112.000000   \n",
       "50%                      NaN       NaN                  NaN     149.000000   \n",
       "75%                      NaN       NaN                  NaN     182.000000   \n",
       "max                      NaN       NaN                  NaN     570.000000   \n",
       "\n",
       "        order_date  \n",
       "count       318345  \n",
       "unique         365  \n",
       "top     2018-09-05  \n",
       "freq           960  \n",
       "mean           NaN  \n",
       "std            NaN  \n",
       "min            NaN  \n",
       "25%            NaN  \n",
       "50%            NaN  \n",
       "75%            NaN  \n",
       "max            NaN  "
      ]
     },
     "execution_count": 4,
     "metadata": {},
     "output_type": "execute_result"
    }
   ],
   "source": [
    "df.describe(include='all')"
   ]
  },
  {
   "cell_type": "markdown",
   "metadata": {},
   "source": [
    "We can already see the first two issues:\n",
    "* The 'postcode' column is stored as an object data type, but it should be an integer since it is a 5-digit number. The warning \"DtypeWarning\" raised during the data loading also indicates that the column contains mixed types. First values end with '.0', indicating that some values are wrongly formatted as floating point numbers. There are approximately 8,699 different postcodes in Germany, but we have 20,525 different values.\n",
    "* The 'order_date' column is an object data type, it should be converted to a datetime data type in order to enable using time-based operations, such as resampling and date filtering, and to insure a more efficient storage."
   ]
  },
  {
   "cell_type": "code",
   "execution_count": 5,
   "metadata": {},
   "outputs": [
    {
     "data": {
      "text/plain": [
       "array(['E.ON STROM', 'E.ON STROM ÖKO', 'E.ON STROM ÖKO 24',\n",
       "       'E.ON STROM 24', 'E.ON STROM PUR', 'E.ON STROM Ã–KO',\n",
       "       'E.ON STROM 24 24 24', 'E.ON STROM 24 24', 'E.ON STROM ÖO',\n",
       "       'E.ON STROM 24 24 24 24 24 24 24'], dtype=object)"
      ]
     },
     "execution_count": 5,
     "metadata": {},
     "output_type": "execute_result"
    }
   ],
   "source": [
    "df['original_product_name'].unique()"
   ]
  },
  {
   "cell_type": "markdown",
   "metadata": {},
   "source": [
    "* There seem to be misspellings withing the 'original_product_name' categories, e.g. 'E.ON STROM' and 'E.ON STROM 24 [...] 24', 'E.ON STROM ÖKO' and 'E.ON STROM ÖO'."
   ]
  },
  {
   "cell_type": "code",
   "execution_count": 6,
   "metadata": {},
   "outputs": [
    {
     "data": {
      "text/plain": [
       "array(['Nordrhein-Westfalen', 'Baden-Württemberg', 'Hessen', 'Berlin',\n",
       "       'Schleswig-Holstein', 'Niedersachsen', nan, 'Bayern',\n",
       "       'Rheinland-Pfalz', 'Sachsen', 'Bremen', 'Brandenburg', 'Thüringen',\n",
       "       'Saarland', 'Mecklenburg-Vorpommern', 'Hamburg', 'Sachsen-Anhalt'],\n",
       "      dtype=object)"
      ]
     },
     "execution_count": 6,
     "metadata": {},
     "output_type": "execute_result"
    }
   ],
   "source": [
    "df['bundesland'].unique()"
   ]
  },
  {
   "cell_type": "code",
   "execution_count": 7,
   "metadata": {},
   "outputs": [
    {
     "data": {
      "text/plain": [
       "original_product_name        0\n",
       "postcode                     0\n",
       "bundesland               29532\n",
       "total_bonus                  0\n",
       "order_date                   0\n",
       "dtype: int64"
      ]
     },
     "execution_count": 7,
     "metadata": {},
     "output_type": "execute_result"
    }
   ],
   "source": [
    "df.isna().sum()"
   ]
  },
  {
   "cell_type": "markdown",
   "metadata": {},
   "source": [
    "* There are 29532 rows with missing 'bundesland' values. It should be possible to impute the correct states from postcodes (after cleaning that column), but will require mapping data."
   ]
  },
  {
   "cell_type": "code",
   "execution_count": 8,
   "metadata": {},
   "outputs": [
    {
     "data": {
      "image/png": "[encoded data removed]",
      "text/plain": [
       "<Figure size 640x480 with 1 Axes>"
      ]
     },
     "metadata": {},
     "output_type": "display_data"
    }
   ],
   "source": [
    "df.total_bonus.hist(bins=30);"
   ]
  },
  {
   "cell_type": "code",
   "execution_count": 9,
   "metadata": {},
   "outputs": [
    {
     "data": {
      "image/png": "[encoded data removed]",
      "text/plain": [
       "<Figure size 640x480 with 1 Axes>"
      ]
     },
     "metadata": {},
     "output_type": "display_data"
    }
   ],
   "source": [
    "high_bonus = df[df['total_bonus'] > 380]\n",
    "high_bonus.hist(bins=30);"
   ]
  },
  {
   "cell_type": "code",
   "execution_count": 10,
   "metadata": {},
   "outputs": [
    {
     "name": "stdout",
     "output_type": "stream",
     "text": [
      "0.09% of customer signups received total bonus above 380€.\n"
     ]
    }
   ],
   "source": [
    "print(f\"{round(len(high_bonus) / len(df) * 100, 2)}% of customer signups received total bonus above 380€.\")"
   ]
  },
  {
   "cell_type": "markdown",
   "metadata": {},
   "source": [
    "Looking at the histograms above, we can see another minor issue:\n",
    "* There are 0.09% extraordinaty high 'total_bonus' values above 380(€?), with a peak around 400.\n",
    "The minimal value is 0, mean value is 149 and maximal value of 570.\n",
    "Domain knowledge is required in order to decide if they are outliers that should be removed for modeling."
   ]
  },
  {
   "cell_type": "markdown",
   "metadata": {},
   "source": [
    "## Resolving selected issues"
   ]
  },
  {
   "cell_type": "markdown",
   "metadata": {},
   "source": [
    "### Cleaning 'postcodes' column by removing floating point numbers"
   ]
  },
  {
   "cell_type": "code",
   "execution_count": 11,
   "metadata": {},
   "outputs": [
    {
     "name": "stdout",
     "output_type": "stream",
     "text": [
      "<class 'pandas.core.frame.DataFrame'>\n",
      "RangeIndex: 318345 entries, 0 to 318344\n",
      "Data columns (total 5 columns):\n",
      " #   Column                 Non-Null Count   Dtype  \n",
      "---  ------                 --------------   -----  \n",
      " 0   original_product_name  318345 non-null  object \n",
      " 1   postcode               318345 non-null  object \n",
      " 2   bundesland             288813 non-null  object \n",
      " 3   total_bonus            318345 non-null  float64\n",
      " 4   order_date             318345 non-null  object \n",
      "dtypes: float64(1), object(4)\n",
      "memory usage: 12.1+ MB\n"
     ]
    }
   ],
   "source": [
    "df = pd.read_csv(\"../data/interview_signup.csv\", dtype={'postcode': str})\n",
    "df.info()"
   ]
  },
  {
   "cell_type": "code",
   "execution_count": 12,
   "metadata": {},
   "outputs": [
    {
     "data": {
      "text/plain": [
       "array(['53229', '74235.0', '45257', ..., '79424.0', '27246.0', '67473.0'],\n",
       "      dtype=object)"
      ]
     },
     "execution_count": 12,
     "metadata": {},
     "output_type": "execute_result"
    }
   ],
   "source": [
    "df['postcode'].unique()"
   ]
  },
  {
   "cell_type": "code",
   "execution_count": 13,
   "metadata": {},
   "outputs": [
    {
     "data": {
      "text/plain": [
       "15814"
      ]
     },
     "execution_count": 13,
     "metadata": {},
     "output_type": "execute_result"
    }
   ],
   "source": [
    "df['postcode'].nunique()"
   ]
  },
  {
   "cell_type": "code",
   "execution_count": 14,
   "metadata": {},
   "outputs": [
    {
     "data": {
      "text/html": [
       "<div>\n",
       "<style scoped>\n",
       "    .dataframe tbody tr th:only-of-type {\n",
       "        vertical-align: middle;\n",
       "    }\n",
       "\n",
       "    .dataframe tbody tr th {\n",
       "        vertical-align: top;\n",
       "    }\n",
       "\n",
       "    .dataframe thead th {\n",
       "        text-align: right;\n",
       "    }\n",
       "</style>\n",
       "<table border=\"1\" class=\"dataframe\">\n",
       "  <thead>\n",
       "    <tr style=\"text-align: right;\">\n",
       "      <th></th>\n",
       "      <th>original_product_name</th>\n",
       "      <th>postcode</th>\n",
       "      <th>bundesland</th>\n",
       "      <th>total_bonus</th>\n",
       "      <th>order_date</th>\n",
       "    </tr>\n",
       "  </thead>\n",
       "  <tbody>\n",
       "    <tr>\n",
       "      <th>0</th>\n",
       "      <td>E.ON STROM</td>\n",
       "      <td>53229</td>\n",
       "      <td>Nordrhein-Westfalen</td>\n",
       "      <td>146.0</td>\n",
       "      <td>2018-01-01</td>\n",
       "    </tr>\n",
       "    <tr>\n",
       "      <th>1</th>\n",
       "      <td>E.ON STROM ÖKO</td>\n",
       "      <td>74235.0</td>\n",
       "      <td>Baden-Württemberg</td>\n",
       "      <td>67.0</td>\n",
       "      <td>2018-01-01</td>\n",
       "    </tr>\n",
       "    <tr>\n",
       "      <th>2</th>\n",
       "      <td>E.ON STROM ÖKO 24</td>\n",
       "      <td>45257</td>\n",
       "      <td>Nordrhein-Westfalen</td>\n",
       "      <td>123.0</td>\n",
       "      <td>2018-01-01</td>\n",
       "    </tr>\n",
       "    <tr>\n",
       "      <th>3</th>\n",
       "      <td>E.ON STROM</td>\n",
       "      <td>64395</td>\n",
       "      <td>Hessen</td>\n",
       "      <td>159.0</td>\n",
       "      <td>2018-01-01</td>\n",
       "    </tr>\n",
       "    <tr>\n",
       "      <th>4</th>\n",
       "      <td>E.ON STROM 24</td>\n",
       "      <td>36039</td>\n",
       "      <td>Hessen</td>\n",
       "      <td>116.0</td>\n",
       "      <td>2018-01-01</td>\n",
       "    </tr>\n",
       "  </tbody>\n",
       "</table>\n",
       "</div>"
      ],
      "text/plain": [
       "  original_product_name postcode           bundesland  total_bonus  order_date\n",
       "0            E.ON STROM    53229  Nordrhein-Westfalen        146.0  2018-01-01\n",
       "1        E.ON STROM ÖKO  74235.0    Baden-Württemberg         67.0  2018-01-01\n",
       "2     E.ON STROM ÖKO 24    45257  Nordrhein-Westfalen        123.0  2018-01-01\n",
       "3            E.ON STROM    64395               Hessen        159.0  2018-01-01\n",
       "4         E.ON STROM 24    36039               Hessen        116.0  2018-01-01"
      ]
     },
     "execution_count": 14,
     "metadata": {},
     "output_type": "execute_result"
    }
   ],
   "source": [
    "df.head()"
   ]
  },
  {
   "cell_type": "code",
   "execution_count": 15,
   "metadata": {},
   "outputs": [
    {
     "data": {
      "text/html": [
       "<div>\n",
       "<style scoped>\n",
       "    .dataframe tbody tr th:only-of-type {\n",
       "        vertical-align: middle;\n",
       "    }\n",
       "\n",
       "    .dataframe tbody tr th {\n",
       "        vertical-align: top;\n",
       "    }\n",
       "\n",
       "    .dataframe thead th {\n",
       "        text-align: right;\n",
       "    }\n",
       "</style>\n",
       "<table border=\"1\" class=\"dataframe\">\n",
       "  <thead>\n",
       "    <tr style=\"text-align: right;\">\n",
       "      <th></th>\n",
       "      <th>original_product_name</th>\n",
       "      <th>postcode</th>\n",
       "      <th>bundesland</th>\n",
       "      <th>total_bonus</th>\n",
       "      <th>order_date</th>\n",
       "    </tr>\n",
       "  </thead>\n",
       "  <tbody>\n",
       "    <tr>\n",
       "      <th>0</th>\n",
       "      <td>E.ON STROM</td>\n",
       "      <td>53229</td>\n",
       "      <td>Nordrhein-Westfalen</td>\n",
       "      <td>146.0</td>\n",
       "      <td>2018-01-01</td>\n",
       "    </tr>\n",
       "    <tr>\n",
       "      <th>1</th>\n",
       "      <td>E.ON STROM ÖKO</td>\n",
       "      <td>74235</td>\n",
       "      <td>Baden-Württemberg</td>\n",
       "      <td>67.0</td>\n",
       "      <td>2018-01-01</td>\n",
       "    </tr>\n",
       "    <tr>\n",
       "      <th>2</th>\n",
       "      <td>E.ON STROM ÖKO 24</td>\n",
       "      <td>45257</td>\n",
       "      <td>Nordrhein-Westfalen</td>\n",
       "      <td>123.0</td>\n",
       "      <td>2018-01-01</td>\n",
       "    </tr>\n",
       "    <tr>\n",
       "      <th>3</th>\n",
       "      <td>E.ON STROM</td>\n",
       "      <td>64395</td>\n",
       "      <td>Hessen</td>\n",
       "      <td>159.0</td>\n",
       "      <td>2018-01-01</td>\n",
       "    </tr>\n",
       "    <tr>\n",
       "      <th>4</th>\n",
       "      <td>E.ON STROM 24</td>\n",
       "      <td>36039</td>\n",
       "      <td>Hessen</td>\n",
       "      <td>116.0</td>\n",
       "      <td>2018-01-01</td>\n",
       "    </tr>\n",
       "  </tbody>\n",
       "</table>\n",
       "</div>"
      ],
      "text/plain": [
       "  original_product_name postcode           bundesland  total_bonus  order_date\n",
       "0            E.ON STROM    53229  Nordrhein-Westfalen        146.0  2018-01-01\n",
       "1        E.ON STROM ÖKO    74235    Baden-Württemberg         67.0  2018-01-01\n",
       "2     E.ON STROM ÖKO 24    45257  Nordrhein-Westfalen        123.0  2018-01-01\n",
       "3            E.ON STROM    64395               Hessen        159.0  2018-01-01\n",
       "4         E.ON STROM 24    36039               Hessen        116.0  2018-01-01"
      ]
     },
     "execution_count": 15,
     "metadata": {},
     "output_type": "execute_result"
    }
   ],
   "source": [
    "df = remove_floating_points_in_postcodes(df)\n",
    "df.head()"
   ]
  },
  {
   "cell_type": "code",
   "execution_count": 16,
   "metadata": {},
   "outputs": [
    {
     "data": {
      "text/plain": [
       "8084"
      ]
     },
     "execution_count": 16,
     "metadata": {},
     "output_type": "execute_result"
    }
   ],
   "source": [
    "df['postcode'].nunique()"
   ]
  },
  {
   "cell_type": "markdown",
   "metadata": {},
   "source": [
    "Removing floating point numbers led to reduction of unique values from 20,525 to 8,084 that is close to the number of postcodes in Germany."
   ]
  },
  {
   "cell_type": "code",
   "execution_count": 17,
   "metadata": {},
   "outputs": [
    {
     "name": "stdout",
     "output_type": "stream",
     "text": [
      "Found 1 postcodes with non-numeric values in column 'postcode'.\n",
      "266922    92696JAVAS\n",
      "Name: postcode, dtype: object\n",
      "Found 39095 postcodes with invalid length (not 5 digits) in column 'postcode'.\n"
     ]
    }
   ],
   "source": [
    "check_postcodes(df)"
   ]
  },
  {
   "cell_type": "markdown",
   "metadata": {},
   "source": [
    "While working of the first issue, I found two more issues:\n",
    "* The 'postcode' column contains 1 postcode with non-numeric value: '92696JAVAS'.\n",
    "* The 'postcode' column contains 39095 postcodes with invalid length (not 5 digits)."
   ]
  },
  {
   "cell_type": "markdown",
   "metadata": {},
   "source": [
    "### Converting 'order_date' column to a datetime data type"
   ]
  },
  {
   "cell_type": "code",
   "execution_count": 18,
   "metadata": {},
   "outputs": [
    {
     "data": {
      "text/plain": [
       "dtype('<M8[ns]')"
      ]
     },
     "execution_count": 18,
     "metadata": {},
     "output_type": "execute_result"
    }
   ],
   "source": [
    "df = convert_order_date_to_datetime(df)\n",
    "df['order_date'].dtype # dtype('<M8[ns]'): a datetime data type with nanosecond (ns) precision"
   ]
  },
  {
   "cell_type": "code",
   "execution_count": 19,
   "metadata": {},
   "outputs": [
    {
     "name": "stdout",
     "output_type": "stream",
     "text": [
      "<class 'pandas.core.frame.DataFrame'>\n",
      "RangeIndex: 318345 entries, 0 to 318344\n",
      "Data columns (total 5 columns):\n",
      " #   Column                 Non-Null Count   Dtype         \n",
      "---  ------                 --------------   -----         \n",
      " 0   original_product_name  318345 non-null  object        \n",
      " 1   postcode               318345 non-null  object        \n",
      " 2   bundesland             288813 non-null  object        \n",
      " 3   total_bonus            318345 non-null  float64       \n",
      " 4   order_date             318345 non-null  datetime64[ns]\n",
      "dtypes: datetime64[ns](1), float64(1), object(3)\n",
      "memory usage: 12.1+ MB\n"
     ]
    }
   ],
   "source": [
    "df.info()"
   ]
  }
 ],
 "metadata": {
  "kernelspec": {
   "display_name": "propulsion",
   "language": "python",
   "name": "propulsion"
  },
  "language_info": {
   "codemirror_mode": {
    "name": "ipython",
    "version": 3
   },
   "file_extension": ".py",
   "mimetype": "text/x-python",
   "name": "python",
   "nbconvert_exporter": "python",
   "pygments_lexer": "ipython3",
   "version": "3.11.5"
  }
 },
 "nbformat": 4,
 "nbformat_minor": 2
}
